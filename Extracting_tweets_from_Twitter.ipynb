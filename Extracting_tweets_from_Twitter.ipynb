{
  "nbformat": 4,
  "nbformat_minor": 0,
  "metadata": {
    "colab": {
      "name": "Extracting tweets from Twitter.ipynb",
      "provenance": [],
      "collapsed_sections": [],
      "authorship_tag": "ABX9TyPtxVzhOkmfH4wNc4hDUNt6",
      "include_colab_link": true
    },
    "kernelspec": {
      "name": "python3",
      "display_name": "Python 3"
    }
  },
  "cells": [
    {
      "cell_type": "markdown",
      "metadata": {
        "id": "view-in-github",
        "colab_type": "text"
      },
      "source": [
        "<a href=\"https://colab.research.google.com/github/Hamza-Khan993/Extracting-Tweets-From-Twitter-Using-Python/blob/master/Extracting_tweets_from_Twitter.ipynb\" target=\"_parent\"><img src=\"https://colab.research.google.com/assets/colab-badge.svg\" alt=\"Open In Colab\"/></a>"
      ]
    },
    {
      "cell_type": "code",
      "metadata": {
        "id": "lBg7kOvwn1Iy",
        "colab_type": "code",
        "colab": {}
      },
      "source": [
        "import os\n",
        "import tweepy as tw\n",
        "import pandas as pd"
      ],
      "execution_count": 1,
      "outputs": []
    },
    {
      "cell_type": "code",
      "metadata": {
        "id": "bAnLVl5Vn5yV",
        "colab_type": "code",
        "colab": {}
      },
      "source": [
        "consumer_key= '8888888888888888888888888888'\n",
        "consumer_secret= '888888888888888888888888888888888888888888'\n",
        "access_token= '88888888888888888888888888888888888888888'\n",
        "access_token_secret= '8888888888888888888888888888888888888888888'"
      ],
      "execution_count": 7,
      "outputs": []
    },
    {
      "cell_type": "code",
      "metadata": {
        "id": "1eodIpG7n9T8",
        "colab_type": "code",
        "colab": {}
      },
      "source": [
        "auth = tw.OAuthHandler(consumer_key, consumer_secret)\n",
        "auth.set_access_token(access_token, access_token_secret)\n",
        "api = tw.API(auth, wait_on_rate_limit=True)"
      ],
      "execution_count": 8,
      "outputs": []
    },
    {
      "cell_type": "code",
      "metadata": {
        "id": "63XJ7u3soAwe",
        "colab_type": "code",
        "colab": {
          "base_uri": "https://localhost:8080/",
          "height": 35
        },
        "outputId": "9fecc0a3-8c0f-4f63-a144-6ee707e798cd"
      },
      "source": [
        "search_words = \"#blm\"\n",
        "date_since = \"2020-09-20\"\n",
        "new_search = search_words + \" -filter:retweets\"\n",
        "new_search"
      ],
      "execution_count": 9,
      "outputs": [
        {
          "output_type": "execute_result",
          "data": {
            "application/vnd.google.colaboratory.intrinsic+json": {
              "type": "string"
            },
            "text/plain": [
              "'#blm -filter:retweets'"
            ]
          },
          "metadata": {
            "tags": []
          },
          "execution_count": 9
        }
      ]
    },
    {
      "cell_type": "code",
      "metadata": {
        "id": "CWAgv2BRoI4Y",
        "colab_type": "code",
        "colab": {}
      },
      "source": [
        "tweets = tw.Cursor(api.search,\n",
        "              q=new_search,\n",
        "              lang=\"en\",\n",
        "              since=date_since).items(10)\n",
        "\n",
        "# Iterate and print tweets\n",
        "tweets_list = []\n",
        "for tweet in tweets:\n",
        "  tweets_list.append(tweet.text)"
      ],
      "execution_count": 10,
      "outputs": []
    },
    {
      "cell_type": "code",
      "metadata": {
        "id": "sfSlwh9vpf_P",
        "colab_type": "code",
        "colab": {
          "base_uri": "https://localhost:8080/",
          "height": 183
        },
        "outputId": "8aac110a-e541-4503-815a-973862cc87bf"
      },
      "source": [
        "tweets_list"
      ],
      "execution_count": 11,
      "outputs": [
        {
          "output_type": "execute_result",
          "data": {
            "text/plain": [
              "[\"There are many artist out there making songs about #BLM but let's just say a man years ago named Michael Jackson di… https://t.co/9SYJgkkyiY\",\n",
              " \"@JLPtalk Of course it's a women.  Every #BLM shouter, every #TikTok car screamer, every Handmaid's tale #Kavanaugh… https://t.co/ga25EohScl\",\n",
              " 'Anybody think RACE &amp; VIOLENCE SHOULDN\"T BE DISCUSSED AT THE DEBATES?? The Democrats Don\\'t Want it Discussed because… https://t.co/UlFF31cH4U',\n",
              " '@PressSec Donald used Nazi 101 language at his rally the other night, has done nothing to protect soldiers from Put… https://t.co/i0kGg8I8EB',\n",
              " \"Don't tell me that you're prolife just because you want to reverse Roe v. Wade. Because if you want Donald Trump yo… https://t.co/VhVoKb1CkQ\",\n",
              " 'Join 37,000+ at @DefeatByTweet micro-donors pledging $.01+ to swing state organizers every time Trump tweets. We ar… https://t.co/oM8gaRUxF0',\n",
              " \"@nypost I can't believe there was a #BLM  speech at an awards show. So stunning! So brave!\",\n",
              " '#blm\\n Do whatever you want with me, daddy. https://t.co/yWjJ8ijizl',\n",
              " 'Stassi is and always will be a Karen. She still holds those views, and the best she had was “black people are dying… https://t.co/wzUXuvmTlB',\n",
              " '@cook_amber @tedwheeler What about the violent and intolerant #Antifa and #BLM rioters murdering people?  I guess t… https://t.co/z12GfSvukm']"
            ]
          },
          "metadata": {
            "tags": []
          },
          "execution_count": 11
        }
      ]
    },
    {
      "cell_type": "code",
      "metadata": {
        "id": "PEZvlpRvcSxF",
        "colab_type": "code",
        "colab": {}
      },
      "source": [
        ""
      ],
      "execution_count": null,
      "outputs": []
    }
  ]
}